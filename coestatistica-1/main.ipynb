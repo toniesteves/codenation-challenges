{
 "cells": [
  {
   "cell_type": "code",
   "execution_count": 1,
   "metadata": {},
   "outputs": [],
   "source": [
    "import pandas as pd\n",
    "import numpy as np\n",
    "import matplotlib.pyplot as plt"
   ]
  },
  {
   "cell_type": "code",
   "execution_count": 2,
   "metadata": {},
   "outputs": [],
   "source": [
    "data = pd.read_csv('desafio1.csv')"
   ]
  },
  {
   "cell_type": "code",
   "execution_count": 3,
   "metadata": {},
   "outputs": [
    {
     "data": {
      "text/html": [
       "<div>\n",
       "<style scoped>\n",
       "    .dataframe tbody tr th:only-of-type {\n",
       "        vertical-align: middle;\n",
       "    }\n",
       "\n",
       "    .dataframe tbody tr th {\n",
       "        vertical-align: top;\n",
       "    }\n",
       "\n",
       "    .dataframe thead th {\n",
       "        text-align: right;\n",
       "    }\n",
       "</style>\n",
       "<table border=\"1\" class=\"dataframe\">\n",
       "  <thead>\n",
       "    <tr style=\"text-align: right;\">\n",
       "      <th></th>\n",
       "      <th>RowNumber</th>\n",
       "      <th>id</th>\n",
       "      <th>sobrenome</th>\n",
       "      <th>pontuacao_credito</th>\n",
       "      <th>estado_residencia</th>\n",
       "      <th>genero</th>\n",
       "      <th>idade</th>\n",
       "      <th>nivel_estabilidade</th>\n",
       "      <th>saldo_conta</th>\n",
       "      <th>numero_produtos</th>\n",
       "      <th>possui_cartao_de_credito</th>\n",
       "      <th>membro_ativo</th>\n",
       "    </tr>\n",
       "  </thead>\n",
       "  <tbody>\n",
       "    <tr>\n",
       "      <th>776</th>\n",
       "      <td>777</td>\n",
       "      <td>240614e7b47f2dd106f16a74308486ab983dd026</td>\n",
       "      <td>476ded17b944f145d95a839e77f8b5271c911f60</td>\n",
       "      <td>622</td>\n",
       "      <td>PR</td>\n",
       "      <td>F</td>\n",
       "      <td>58</td>\n",
       "      <td>7</td>\n",
       "      <td>116922.25</td>\n",
       "      <td>1</td>\n",
       "      <td>1</td>\n",
       "      <td>0</td>\n",
       "    </tr>\n",
       "    <tr>\n",
       "      <th>1678</th>\n",
       "      <td>1679</td>\n",
       "      <td>ce7a1f4bd13ac229f4a05dce228deafe0da13983</td>\n",
       "      <td>cd976952bdbe5c1b775b5901c461bcb2ea5b5433</td>\n",
       "      <td>570</td>\n",
       "      <td>SC</td>\n",
       "      <td>F</td>\n",
       "      <td>18</td>\n",
       "      <td>4</td>\n",
       "      <td>82767.42</td>\n",
       "      <td>1</td>\n",
       "      <td>1</td>\n",
       "      <td>0</td>\n",
       "    </tr>\n",
       "    <tr>\n",
       "      <th>562</th>\n",
       "      <td>563</td>\n",
       "      <td>0c3ad06774efe4dcb7715bec3110180af2785288</td>\n",
       "      <td>133552ebfbcce8310f8920695422699d5256bac9</td>\n",
       "      <td>607</td>\n",
       "      <td>RS</td>\n",
       "      <td>M</td>\n",
       "      <td>36</td>\n",
       "      <td>8</td>\n",
       "      <td>158261.68</td>\n",
       "      <td>1</td>\n",
       "      <td>1</td>\n",
       "      <td>1</td>\n",
       "    </tr>\n",
       "    <tr>\n",
       "      <th>5366</th>\n",
       "      <td>5367</td>\n",
       "      <td>4398497351b32b2952a0d2653a31c961b9eaa74c</td>\n",
       "      <td>c9c7dc2b9e1d9de56a597c7bd008648c9afc1f28</td>\n",
       "      <td>670</td>\n",
       "      <td>PR</td>\n",
       "      <td>F</td>\n",
       "      <td>42</td>\n",
       "      <td>5</td>\n",
       "      <td>49508.79</td>\n",
       "      <td>3</td>\n",
       "      <td>1</td>\n",
       "      <td>1</td>\n",
       "    </tr>\n",
       "    <tr>\n",
       "      <th>4499</th>\n",
       "      <td>4500</td>\n",
       "      <td>ef931b84e4e5205e582d6fc490a3e00c7049a4f5</td>\n",
       "      <td>b4ea347e8ef551884cac255e6f37dc7dbe732258</td>\n",
       "      <td>536</td>\n",
       "      <td>PR</td>\n",
       "      <td>F</td>\n",
       "      <td>44</td>\n",
       "      <td>4</td>\n",
       "      <td>121898.82</td>\n",
       "      <td>1</td>\n",
       "      <td>0</td>\n",
       "      <td>0</td>\n",
       "    </tr>\n",
       "  </tbody>\n",
       "</table>\n",
       "</div>"
      ],
      "text/plain": [
       "      RowNumber                                        id  \\\n",
       "776         777  240614e7b47f2dd106f16a74308486ab983dd026   \n",
       "1678       1679  ce7a1f4bd13ac229f4a05dce228deafe0da13983   \n",
       "562         563  0c3ad06774efe4dcb7715bec3110180af2785288   \n",
       "5366       5367  4398497351b32b2952a0d2653a31c961b9eaa74c   \n",
       "4499       4500  ef931b84e4e5205e582d6fc490a3e00c7049a4f5   \n",
       "\n",
       "                                     sobrenome  pontuacao_credito  \\\n",
       "776   476ded17b944f145d95a839e77f8b5271c911f60                622   \n",
       "1678  cd976952bdbe5c1b775b5901c461bcb2ea5b5433                570   \n",
       "562   133552ebfbcce8310f8920695422699d5256bac9                607   \n",
       "5366  c9c7dc2b9e1d9de56a597c7bd008648c9afc1f28                670   \n",
       "4499  b4ea347e8ef551884cac255e6f37dc7dbe732258                536   \n",
       "\n",
       "     estado_residencia genero  idade  nivel_estabilidade  saldo_conta  \\\n",
       "776                 PR      F     58                   7    116922.25   \n",
       "1678                SC      F     18                   4     82767.42   \n",
       "562                 RS      M     36                   8    158261.68   \n",
       "5366                PR      F     42                   5     49508.79   \n",
       "4499                PR      F     44                   4    121898.82   \n",
       "\n",
       "      numero_produtos  possui_cartao_de_credito  membro_ativo  \n",
       "776                 1                         1             0  \n",
       "1678                1                         1             0  \n",
       "562                 1                         1             1  \n",
       "5366                3                         1             1  \n",
       "4499                1                         0             0  "
      ]
     },
     "execution_count": 3,
     "metadata": {},
     "output_type": "execute_result"
    }
   ],
   "source": [
    "data.sample(5)"
   ]
  },
  {
   "cell_type": "markdown",
   "metadata": {},
   "source": [
    "Vamos ver quantos estados temos disponíveis."
   ]
  },
  {
   "cell_type": "code",
   "execution_count": 4,
   "metadata": {},
   "outputs": [
    {
     "data": {
      "text/plain": [
       "SC    3519\n",
       "RS    1750\n",
       "PR    1731\n",
       "Name: estado_residencia, dtype: int64"
      ]
     },
     "execution_count": 4,
     "metadata": {},
     "output_type": "execute_result"
    }
   ],
   "source": [
    "data['estado_residencia'].value_counts()"
   ]
  },
  {
   "cell_type": "markdown",
   "metadata": {},
   "source": [
    "Para ter alguns insights sobre os nossos dados vamos plotar a distribuição da variável `pontuacao_credito` para Santa Catarina por exemplo."
   ]
  },
  {
   "cell_type": "code",
   "execution_count": 5,
   "metadata": {},
   "outputs": [
    {
     "name": "stderr",
     "output_type": "stream",
     "text": [
      "/Library/Frameworks/Python.framework/Versions/3.7/lib/python3.7/site-packages/statsmodels/tools/_testing.py:19: FutureWarning: pandas.util.testing is deprecated. Use the functions in the public API at pandas.testing instead.\n",
      "  import pandas.util.testing as tm\n"
     ]
    },
    {
     "data": {
      "image/png": "[encoded data removed]",
      "text/plain": [
       "<Figure size 1080x432 with 1 Axes>"
      ]
     },
     "metadata": {
      "needs_background": "light"
     },
     "output_type": "display_data"
    }
   ],
   "source": [
    "df = data[data['estado_residencia'] == 'RS']\n",
    "\n",
    "plt.figure(figsize=(15,6))\n",
    "plt.tight_layout()\n",
    "plt.grid()\n",
    "plt.xticks(np.arange(0, 1000, step=50))\n",
    "plt.xlabel('Price', fontsize=18, color='white')\n",
    "sns.distplot(df['pontuacao_credito'],bins=100, hist_kws=dict(edgecolor=\"white\")).set_title('Pontuação', color='white', fontsize=20, fontweight=\"bold\");"
   ]
  },
  {
   "cell_type": "markdown",
   "metadata": {},
   "source": [
    "$H_0$ : Amostra vem de uma distribuição normal. "
   ]
  },
  {
   "cell_type": "code",
   "execution_count": 17,
   "metadata": {},
   "outputs": [],
   "source": [
    "from scipy.stats import normaltest"
   ]
  },
  {
   "cell_type": "markdown",
   "metadata": {},
   "source": [
    "Rejeitar $H_0$ se $p \\leq 0.05$"
   ]
  },
  {
   "cell_type": "code",
   "execution_count": 22,
   "metadata": {},
   "outputs": [
    {
     "name": "stdout",
     "output_type": "stream",
     "text": [
      "Estatística: 110.92554566338549\n",
      "p-valor: 8.1813280698060245e-25\n"
     ]
    }
   ],
   "source": [
    "significancy = 0.05\n",
    "\n",
    "normaltest(data['pontuacao_credito'])\n",
    "\n",
    "stat_test, p_value = normaltest(data['pontuacao_credito'])\n",
    "\n",
    "print(\"Estatística: {}\".format(stat_test))\n",
    "print(\"p-valor: {}\".format(p_value))"
   ]
  },
  {
   "cell_type": "code",
   "execution_count": 6,
   "metadata": {},
   "outputs": [],
   "source": [
    "from statistics import mode\n",
    "\n",
    "stats_data = pd.DataFrame({'moda': data.groupby('estado_residencia')['pontuacao_credito'].aggregate(lambda x : mode(x)),\n",
    "                             'mediana': data.groupby('estado_residencia')['pontuacao_credito'].median(),\n",
    "                             'media': data.groupby('estado_residencia')['pontuacao_credito'].mean(), \n",
    "                             'desvio_padrao': data.groupby('estado_residencia')['pontuacao_credito'].std()})\n",
    "\n",
    "stats_data = stats_data.sort_values(['estado_residencia'], ascending=False).T"
   ]
  },
  {
   "cell_type": "code",
   "execution_count": 7,
   "metadata": {},
   "outputs": [
    {
     "data": {
      "text/html": [
       "<div>\n",
       "<style scoped>\n",
       "    .dataframe tbody tr th:only-of-type {\n",
       "        vertical-align: middle;\n",
       "    }\n",
       "\n",
       "    .dataframe tbody tr th {\n",
       "        vertical-align: top;\n",
       "    }\n",
       "\n",
       "    .dataframe thead th {\n",
       "        text-align: right;\n",
       "    }\n",
       "</style>\n",
       "<table border=\"1\" class=\"dataframe\">\n",
       "  <thead>\n",
       "    <tr style=\"text-align: right;\">\n",
       "      <th>estado_residencia</th>\n",
       "      <th>SC</th>\n",
       "      <th>RS</th>\n",
       "      <th>PR</th>\n",
       "    </tr>\n",
       "  </thead>\n",
       "  <tbody>\n",
       "    <tr>\n",
       "      <th>moda</th>\n",
       "      <td>850.000000</td>\n",
       "      <td>850.000000</td>\n",
       "      <td>850.000000</td>\n",
       "    </tr>\n",
       "    <tr>\n",
       "      <th>mediana</th>\n",
       "      <td>653.000000</td>\n",
       "      <td>650.000000</td>\n",
       "      <td>650.000000</td>\n",
       "    </tr>\n",
       "    <tr>\n",
       "      <th>media</th>\n",
       "      <td>649.537653</td>\n",
       "      <td>651.105143</td>\n",
       "      <td>648.961294</td>\n",
       "    </tr>\n",
       "    <tr>\n",
       "      <th>desvio_padrao</th>\n",
       "      <td>97.233493</td>\n",
       "      <td>95.136598</td>\n",
       "      <td>98.607186</td>\n",
       "    </tr>\n",
       "  </tbody>\n",
       "</table>\n",
       "</div>"
      ],
      "text/plain": [
       "estado_residencia          SC          RS          PR\n",
       "moda               850.000000  850.000000  850.000000\n",
       "mediana            653.000000  650.000000  650.000000\n",
       "media              649.537653  651.105143  648.961294\n",
       "desvio_padrao       97.233493   95.136598   98.607186"
      ]
     },
     "execution_count": 7,
     "metadata": {},
     "output_type": "execute_result"
    }
   ],
   "source": [
    "stats_data.head()"
   ]
  },
  {
   "cell_type": "code",
   "execution_count": 8,
   "metadata": {},
   "outputs": [],
   "source": [
    "stats_data.to_json('submission.json', orient='columns')"
   ]
  },
  {
   "cell_type": "code",
   "execution_count": null,
   "metadata": {},
   "outputs": [],
   "source": []
  }
 ],
 "metadata": {
  "kernelspec": {
   "display_name": "Python 3",
   "language": "python",
   "name": "python3"
  },
  "language_info": {
   "codemirror_mode": {
    "name": "ipython",
    "version": 3
   },
   "file_extension": ".py",
   "mimetype": "text/x-python",
   "name": "python",
   "nbconvert_exporter": "python",
   "pygments_lexer": "ipython3",
   "version": "3.7.3"
  }
 },
 "nbformat": 4,
 "nbformat_minor": 4
}
